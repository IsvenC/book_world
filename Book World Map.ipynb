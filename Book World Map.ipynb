{
 "cells": [
  {
   "cell_type": "markdown",
   "metadata": {},
   "source": [
    "# Book World Map\n",
    "\n",
    "Creating a plotly world visualisation for the books and countries I have read so far. \n",
    "\n",
    "Colour scales from http://colorbrewer2.org"
   ]
  },
  {
   "cell_type": "code",
   "execution_count": 1,
   "metadata": {
    "collapsed": false
   },
   "outputs": [],
   "source": [
    "import pandas as pd\n",
    "import plotly.plotly as py"
   ]
  },
  {
   "cell_type": "code",
   "execution_count": 2,
   "metadata": {
    "collapsed": false
   },
   "outputs": [
    {
     "data": {
      "text/html": [
       "<iframe id=\"igraph\" scrolling=\"no\" style=\"border:none;\" seamless=\"seamless\" src=\"https://plot.ly/~cisven/2.embed\" height=\"525px\" width=\"100%\"></iframe>"
      ],
      "text/plain": [
       "<plotly.tools.PlotlyDisplay object>"
      ]
     },
     "execution_count": 2,
     "metadata": {},
     "output_type": "execute_result"
    }
   ],
   "source": [
    "# Import book data\n",
    "df = pd.read_csv('book_count_rec.csv', dtype = {'country_name': str, \\\n",
    "'book_count': int, 'iso_code': str, 'recommended_author': str, \\\n",
    "'recommended_title': str})\n",
    "\n",
    "# Specify text to be displayed when hovering over a country I have read\n",
    "df['text'] = df['country_name'] + '<br>' + 'Author: ' + df['recommended_author'] +\\\n",
    "'<br>' + 'Title: ' + df['recommended_title']\n",
    "\n",
    "# Specify data properties \n",
    "data = [ dict(\n",
    "        type = 'choropleth',\n",
    "        locations = df['iso_code'],\n",
    "        z = df['book_count'],\n",
    "        text = df['text'],\n",
    "        colorscale = [[0,\"rgb(247,251,255)\"],[0.01,\"rgb(198,219,239)\"],\\\n",
    "        [0.05,\"rgb(158,202,225)\"], [0.10,\"rgb(107,174,214)\"],\\\n",
    "        [0.20,\"rgb(66,146,198)\"],[0.50,\"rgb(33,113,181)\"],[1,\"rgb(8,48,107)\"]],\n",
    "        autocolorscale = False,\n",
    "        reversescale = False,\n",
    "        marker = dict(\n",
    "            line = dict (\n",
    "                color = 'rgb(127,127,127)',\n",
    "                width = 0.5\n",
    "            ) ),\n",
    "      ) ]\n",
    "\n",
    "# Specify layout properties\n",
    "layout = dict(\n",
    "    title = 'Number of books read per country',\n",
    "    geo = dict(\n",
    "        showframe = False,\n",
    "        showcoastlines = True,\n",
    "        coastlinecolor = 'rgb(180,180,180)',\n",
    "        coastlinewidth = 0.5,\n",
    "        showland = True,\n",
    "        landcolor = \"rgb(247,251,255)\",\n",
    "        showcountries = True,\n",
    "        countrycolor = \"rgb(247,251,255)\",\n",
    "        countrywidth = 0.5,\n",
    "        projection = dict(\n",
    "            type = 'orthographic'\n",
    "        )\n",
    "    )\n",
    ")\n",
    "\n",
    "# define plot source\n",
    "fig = dict( data=data, layout=layout )\n",
    "\n",
    "# plot directly to plotly \n",
    "py.iplot( fig, validate=False, filename='book-world-map' )"
   ]
  },
  {
   "cell_type": "code",
   "execution_count": null,
   "metadata": {
    "collapsed": true
   },
   "outputs": [],
   "source": []
  }
 ],
 "metadata": {
  "anaconda-cloud": {},
  "kernelspec": {
   "display_name": "Python [conda root]",
   "language": "python",
   "name": "conda-root-py"
  },
  "language_info": {
   "codemirror_mode": {
    "name": "ipython",
    "version": 2
   },
   "file_extension": ".py",
   "mimetype": "text/x-python",
   "name": "python",
   "nbconvert_exporter": "python",
   "pygments_lexer": "ipython2",
   "version": "2.7.12"
  }
 },
 "nbformat": 4,
 "nbformat_minor": 2
}
